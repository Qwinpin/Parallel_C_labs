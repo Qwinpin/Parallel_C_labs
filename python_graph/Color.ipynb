{
 "cells": [
  {
   "cell_type": "code",
   "execution_count": 5,
   "metadata": {},
   "outputs": [],
   "source": [
    "import numpy as np\n",
    "import matplotlib.pyplot as plt\n",
    "import plotly\n",
    "import plotly.graph_objs as pyplt"
   ]
  },
  {
   "cell_type": "code",
   "execution_count": 6,
   "metadata": {},
   "outputs": [
    {
     "data": {
      "text/html": [
       "<script>requirejs.config({paths: { 'plotly': ['https://cdn.plot.ly/plotly-latest.min']},});if(!window.Plotly) {{require(['plotly'],function(plotly) {window.Plotly=plotly;});}}</script>"
      ],
      "text/vnd.plotly.v1+html": [
       "<script>requirejs.config({paths: { 'plotly': ['https://cdn.plot.ly/plotly-latest.min']},});if(!window.Plotly) {{require(['plotly'],function(plotly) {window.Plotly=plotly;});}}</script>"
      ]
     },
     "metadata": {},
     "output_type": "display_data"
    }
   ],
   "source": [
    "plotly.offline.init_notebook_mode(connected=True)"
   ]
  },
  {
   "cell_type": "markdown",
   "metadata": {},
   "source": [
    "# Coloring"
   ]
  },
  {
   "cell_type": "code",
   "execution_count": 8,
   "metadata": {},
   "outputs": [],
   "source": [
    "axis = [i for i in range(1000, 16000, 1000)]"
   ]
  },
  {
   "cell_type": "code",
   "execution_count": 29,
   "metadata": {},
   "outputs": [
    {
     "data": {
      "text/plain": [
       "True"
      ]
     },
     "execution_count": 29,
     "metadata": {},
     "output_type": "execute_result"
    }
   ],
   "source": [
    "res = []\n",
    "with open('../coloring/Debug/color_process.txt') as f:\n",
    "    for line in f:\n",
    "        res.append(line)\n",
    "f.closed"
   ]
  },
  {
   "cell_type": "code",
   "execution_count": 30,
   "metadata": {},
   "outputs": [],
   "source": [
    "d1 = [float(i) for i in res[0][:-3].split(', ')]"
   ]
  },
  {
   "cell_type": "code",
   "execution_count": 31,
   "metadata": {},
   "outputs": [
    {
     "data": {
      "text/plain": [
       "True"
      ]
     },
     "execution_count": 31,
     "metadata": {},
     "output_type": "execute_result"
    }
   ],
   "source": [
    "res = []\n",
    "with open('../block_coloring/Debug/color_parallel_process.txt') as f:\n",
    "    for line in f:\n",
    "        res.append(line)\n",
    "f.closed"
   ]
  },
  {
   "cell_type": "code",
   "execution_count": 32,
   "metadata": {},
   "outputs": [],
   "source": [
    "d2 = [[float(j) for j in res[i][:-3].split(', ')] for i in range(1, len(res)) if i % 2 == 0]"
   ]
  },
  {
   "cell_type": "code",
   "execution_count": 50,
   "metadata": {},
   "outputs": [],
   "source": [
    "labels = [i for i in range(1, 90, 5)]"
   ]
  },
  {
   "cell_type": "code",
   "execution_count": null,
   "metadata": {},
   "outputs": [],
   "source": []
  },
  {
   "cell_type": "code",
   "execution_count": 88,
   "metadata": {},
   "outputs": [],
   "source": [
    "data1 = [pyplt.Scatter(\n",
    "    x=axis,\n",
    "    y=d1,\n",
    "    mode='lines',\n",
    "    name='Single')]\n",
    "\n",
    "data2 = [pyplt.Scatter(\n",
    "    x=axis,\n",
    "    y=val,\n",
    "    mode='lines',\n",
    "    name='Num of threads {}'.format(lab)) for val, lab in zip(d2, labels) if lab % 4 == 0]\n",
    "data2.extend(data1)\n",
    "layout1 = dict(title = 'Coloring',\n",
    "    xaxis = dict(title = 'Elements number'),\n",
    "    yaxis = dict(title = 'Time (ms)'))"
   ]
  },
  {
   "cell_type": "code",
   "execution_count": 89,
   "metadata": {},
   "outputs": [
    {
     "data": {
      "application/vnd.plotly.v1+json": {
       "data": [
        {
         "mode": "lines",
         "name": "Num of threads 16",
         "type": "scatter",
         "x": [
          1000,
          2000,
          3000,
          4000,
          5000,
          6000,
          7000,
          8000,
          9000,
          10000,
          11000,
          12000,
          13000,
          14000,
          15000
         ],
         "y": [
          14,
          38,
          79,
          156,
          241,
          370,
          501,
          657,
          820,
          998,
          1159,
          1393,
          1644,
          1850,
          2160
         ]
        },
        {
         "mode": "lines",
         "name": "Num of threads 36",
         "type": "scatter",
         "x": [
          1000,
          2000,
          3000,
          4000,
          5000,
          6000,
          7000,
          8000,
          9000,
          10000,
          11000,
          12000,
          13000,
          14000,
          15000
         ],
         "y": [
          10,
          39,
          70,
          118,
          222,
          357,
          471,
          599,
          756,
          915,
          1071,
          1326,
          1514,
          1791,
          2072
         ]
        },
        {
         "mode": "lines",
         "name": "Num of threads 56",
         "type": "scatter",
         "x": [
          1000,
          2000,
          3000,
          4000,
          5000,
          6000,
          7000,
          8000,
          9000,
          10000,
          11000,
          12000,
          13000,
          14000,
          15000
         ],
         "y": [
          9,
          50,
          70,
          131,
          221,
          354,
          467,
          644,
          752,
          906,
          1071,
          1327,
          1559,
          1802,
          2080
         ]
        },
        {
         "mode": "lines",
         "name": "Num of threads 76",
         "type": "scatter",
         "x": [
          1000,
          2000,
          3000,
          4000,
          5000,
          6000,
          7000,
          8000,
          9000,
          10000,
          11000,
          12000,
          13000,
          14000,
          15000
         ],
         "y": [
          10,
          34,
          74,
          116,
          242,
          358,
          455,
          641,
          830,
          989,
          1137,
          1351,
          1642,
          1887,
          2210
         ]
        },
        {
         "mode": "lines",
         "name": "Single",
         "type": "scatter",
         "x": [
          1000,
          2000,
          3000,
          4000,
          5000,
          6000,
          7000,
          8000,
          9000,
          10000,
          11000,
          12000,
          13000,
          14000,
          15000
         ],
         "y": [
          9,
          41,
          106,
          193,
          307,
          448,
          607,
          798,
          1007,
          1240,
          1502,
          1796,
          2101,
          2438,
          2796
         ]
        }
       ],
       "layout": {
        "title": "Coloring",
        "xaxis": {
         "title": "Elements number"
        },
        "yaxis": {
         "title": "Time (ms)"
        }
       }
      },
      "text/html": [
       "<div id=\"08ce1c1f-3d8d-4904-850d-2539010cd10f\" style=\"height: 525px; width: 100%;\" class=\"plotly-graph-div\"></div><script type=\"text/javascript\">require([\"plotly\"], function(Plotly) { window.PLOTLYENV=window.PLOTLYENV || {};window.PLOTLYENV.BASE_URL=\"https://plot.ly\";Plotly.newPlot(\"08ce1c1f-3d8d-4904-850d-2539010cd10f\", [{\"type\": \"scatter\", \"x\": [1000, 2000, 3000, 4000, 5000, 6000, 7000, 8000, 9000, 10000, 11000, 12000, 13000, 14000, 15000], \"y\": [14.0, 38.0, 79.0, 156.0, 241.0, 370.0, 501.0, 657.0, 820.0, 998.0, 1159.0, 1393.0, 1644.0, 1850.0, 2160.0], \"mode\": \"lines\", \"name\": \"Num of threads 16\"}, {\"type\": \"scatter\", \"x\": [1000, 2000, 3000, 4000, 5000, 6000, 7000, 8000, 9000, 10000, 11000, 12000, 13000, 14000, 15000], \"y\": [10.0, 39.0, 70.0, 118.0, 222.0, 357.0, 471.0, 599.0, 756.0, 915.0, 1071.0, 1326.0, 1514.0, 1791.0, 2072.0], \"mode\": \"lines\", \"name\": \"Num of threads 36\"}, {\"type\": \"scatter\", \"x\": [1000, 2000, 3000, 4000, 5000, 6000, 7000, 8000, 9000, 10000, 11000, 12000, 13000, 14000, 15000], \"y\": [9.0, 50.0, 70.0, 131.0, 221.0, 354.0, 467.0, 644.0, 752.0, 906.0, 1071.0, 1327.0, 1559.0, 1802.0, 2080.0], \"mode\": \"lines\", \"name\": \"Num of threads 56\"}, {\"type\": \"scatter\", \"x\": [1000, 2000, 3000, 4000, 5000, 6000, 7000, 8000, 9000, 10000, 11000, 12000, 13000, 14000, 15000], \"y\": [10.0, 34.0, 74.0, 116.0, 242.0, 358.0, 455.0, 641.0, 830.0, 989.0, 1137.0, 1351.0, 1642.0, 1887.0, 2210.0], \"mode\": \"lines\", \"name\": \"Num of threads 76\"}, {\"type\": \"scatter\", \"x\": [1000, 2000, 3000, 4000, 5000, 6000, 7000, 8000, 9000, 10000, 11000, 12000, 13000, 14000, 15000], \"y\": [9.0, 41.0, 106.0, 193.0, 307.0, 448.0, 607.0, 798.0, 1007.0, 1240.0, 1502.0, 1796.0, 2101.0, 2438.0, 2796.0], \"mode\": \"lines\", \"name\": \"Single\"}], {\"title\": \"Coloring\", \"xaxis\": {\"title\": \"Elements number\"}, \"yaxis\": {\"title\": \"Time (ms)\"}}, {\"showLink\": true, \"linkText\": \"Export to plot.ly\"})});</script>"
      ],
      "text/vnd.plotly.v1+html": [
       "<div id=\"08ce1c1f-3d8d-4904-850d-2539010cd10f\" style=\"height: 525px; width: 100%;\" class=\"plotly-graph-div\"></div><script type=\"text/javascript\">require([\"plotly\"], function(Plotly) { window.PLOTLYENV=window.PLOTLYENV || {};window.PLOTLYENV.BASE_URL=\"https://plot.ly\";Plotly.newPlot(\"08ce1c1f-3d8d-4904-850d-2539010cd10f\", [{\"type\": \"scatter\", \"x\": [1000, 2000, 3000, 4000, 5000, 6000, 7000, 8000, 9000, 10000, 11000, 12000, 13000, 14000, 15000], \"y\": [14.0, 38.0, 79.0, 156.0, 241.0, 370.0, 501.0, 657.0, 820.0, 998.0, 1159.0, 1393.0, 1644.0, 1850.0, 2160.0], \"mode\": \"lines\", \"name\": \"Num of threads 16\"}, {\"type\": \"scatter\", \"x\": [1000, 2000, 3000, 4000, 5000, 6000, 7000, 8000, 9000, 10000, 11000, 12000, 13000, 14000, 15000], \"y\": [10.0, 39.0, 70.0, 118.0, 222.0, 357.0, 471.0, 599.0, 756.0, 915.0, 1071.0, 1326.0, 1514.0, 1791.0, 2072.0], \"mode\": \"lines\", \"name\": \"Num of threads 36\"}, {\"type\": \"scatter\", \"x\": [1000, 2000, 3000, 4000, 5000, 6000, 7000, 8000, 9000, 10000, 11000, 12000, 13000, 14000, 15000], \"y\": [9.0, 50.0, 70.0, 131.0, 221.0, 354.0, 467.0, 644.0, 752.0, 906.0, 1071.0, 1327.0, 1559.0, 1802.0, 2080.0], \"mode\": \"lines\", \"name\": \"Num of threads 56\"}, {\"type\": \"scatter\", \"x\": [1000, 2000, 3000, 4000, 5000, 6000, 7000, 8000, 9000, 10000, 11000, 12000, 13000, 14000, 15000], \"y\": [10.0, 34.0, 74.0, 116.0, 242.0, 358.0, 455.0, 641.0, 830.0, 989.0, 1137.0, 1351.0, 1642.0, 1887.0, 2210.0], \"mode\": \"lines\", \"name\": \"Num of threads 76\"}, {\"type\": \"scatter\", \"x\": [1000, 2000, 3000, 4000, 5000, 6000, 7000, 8000, 9000, 10000, 11000, 12000, 13000, 14000, 15000], \"y\": [9.0, 41.0, 106.0, 193.0, 307.0, 448.0, 607.0, 798.0, 1007.0, 1240.0, 1502.0, 1796.0, 2101.0, 2438.0, 2796.0], \"mode\": \"lines\", \"name\": \"Single\"}], {\"title\": \"Coloring\", \"xaxis\": {\"title\": \"Elements number\"}, \"yaxis\": {\"title\": \"Time (ms)\"}}, {\"showLink\": true, \"linkText\": \"Export to plot.ly\"})});</script>"
      ]
     },
     "metadata": {},
     "output_type": "display_data"
    }
   ],
   "source": [
    "plotly.offline.iplot({\n",
    "    'data': data2,\n",
    "    'layout': layout1})"
   ]
  },
  {
   "cell_type": "code",
   "execution_count": null,
   "metadata": {},
   "outputs": [],
   "source": []
  }
 ],
 "metadata": {
  "kernelspec": {
   "display_name": "Python 3",
   "language": "python",
   "name": "python3"
  },
  "language_info": {
   "codemirror_mode": {
    "name": "ipython",
    "version": 3
   },
   "file_extension": ".py",
   "mimetype": "text/x-python",
   "name": "python",
   "nbconvert_exporter": "python",
   "pygments_lexer": "ipython3",
   "version": "3.6.4"
  }
 },
 "nbformat": 4,
 "nbformat_minor": 2
}
